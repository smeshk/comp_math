{
 "cells": [
  {
   "cell_type": "markdown",
   "metadata": {},
   "source": [
    "$$-y''+x^2y = (\\frac{9}{4}+x^2)cos3x$$\n",
    "$$x\\in[0,1], \\  y(0) = 1, \\  y(1) = 0$$"
   ]
  },
  {
   "cell_type": "markdown",
   "metadata": {},
   "source": [
    "Решить задачу методом стрельбы, стрелять будем \"влево\", задавая производную в точке $x=1$. Потом используя неявный метод Эйлера для системы уравнений(p=y'), построим решение и найдем значение слева:\n",
    "$$\\frac{p_{i+1}-p_i}{h}=x_{i}^2 y_i-\\left(\\frac{9}{4}+x_i^2\\right)cos3x_i$$\n",
    "$$\\frac{y_{i+1}-y_i}{h}=p_i$$\n",
    "$$p(1) = y'(1)= \\alpha, y(1) = 0$$"
   ]
  },
  {
   "cell_type": "code",
   "execution_count": 2,
   "metadata": {},
   "outputs": [],
   "source": [
    "N = 1000+1\n",
    "h = 0.001"
   ]
  },
  {
   "cell_type": "code",
   "execution_count": 3,
   "metadata": {},
   "outputs": [],
   "source": [
    "import numpy as np\n",
    "import matplotlib.pyplot as plt\n",
    "%matplotlib inline"
   ]
  },
  {
   "cell_type": "code",
   "execution_count": 4,
   "metadata": {},
   "outputs": [],
   "source": [
    "y = np.zeros(N)\n",
    "p = np.zeros(N)\n",
    "x = np.zeros(N)"
   ]
  },
  {
   "cell_type": "code",
   "execution_count": null,
   "metadata": {},
   "outputs": [],
   "source": []
  },
  {
   "cell_type": "code",
   "execution_count": 5,
   "metadata": {},
   "outputs": [],
   "source": [
    "for i in range(0,N):\n",
    "    x[i] = h*i"
   ]
  },
  {
   "cell_type": "code",
   "execution_count": 8,
   "metadata": {},
   "outputs": [],
   "source": [
    "y[N-1] = 0"
   ]
  },
  {
   "cell_type": "code",
   "execution_count": 9,
   "metadata": {},
   "outputs": [],
   "source": [
    "#Зададим производную в т. х=1 равную 1\n",
    "alpha = 1.\n",
    "p[N-1] = alpha"
   ]
  },
  {
   "cell_type": "code",
   "execution_count": 10,
   "metadata": {},
   "outputs": [],
   "source": [
    "from math import cos"
   ]
  },
  {
   "cell_type": "code",
   "execution_count": 11,
   "metadata": {},
   "outputs": [],
   "source": [
    "def fu_yn(y_n,p_n,x_n1):\n",
    "    return (y_n-h*p_n+h**2*(9/4.+x_n1**2)*cos(3*x_n1))/(1+h**2*x_n1**2)"
   ]
  },
  {
   "cell_type": "code",
   "execution_count": 12,
   "metadata": {},
   "outputs": [],
   "source": [
    "def fu_pn(y_n,y_n1):\n",
    "    return (y_n-y_n1)/h"
   ]
  },
  {
   "cell_type": "code",
   "execution_count": 20,
   "metadata": {},
   "outputs": [],
   "source": [
    "for i in range(0,N-1):\n",
    "    y[N-2-i] = fu_yn(y[N-1-i],p[N-1-i],x[N-2-i])\n",
    "    p[N-2-i] = fu_pn(y[N-1-i],y[N-2-i])"
   ]
  },
  {
   "cell_type": "code",
   "execution_count": 21,
   "metadata": {},
   "outputs": [],
   "source": [
    "#Зададим линейную функцию\n",
    "y0 = -1*x+1"
   ]
  },
  {
   "cell_type": "code",
   "execution_count": 22,
   "metadata": {},
   "outputs": [
    {
     "data": {
      "text/plain": [
       "-1.4875788680543942"
      ]
     },
     "execution_count": 22,
     "metadata": {},
     "output_type": "execute_result"
    },
    {
     "data": {
      "image/png": "[encoded data removed]",
      "text/plain": [
       "<Figure size 432x288 with 1 Axes>"
      ]
     },
     "metadata": {
      "needs_background": "light"
     },
     "output_type": "display_data"
    }
   ],
   "source": [
    "plt.plot(x,y) #Очевидно, решение не сошлось, сравниваем с линеаризованным\n",
    "plt.plot(x,y0)\n",
    "y[0]"
   ]
  },
  {
   "cell_type": "code",
   "execution_count": 29,
   "metadata": {},
   "outputs": [],
   "source": [
    "#Зададим производную в т. х=1 равную -1\n",
    "alpha = -1.\n",
    "p[N-1] = alpha"
   ]
  },
  {
   "cell_type": "code",
   "execution_count": 30,
   "metadata": {},
   "outputs": [],
   "source": [
    "for i in range(0,N-1):\n",
    "    y[N-2-i] = fu_yn(y[N-1-i],p[N-1-i],x[N-2-i])\n",
    "    p[N-2-i] = fu_pn(y[N-1-i],y[N-2-i])"
   ]
  },
  {
   "cell_type": "code",
   "execution_count": 31,
   "metadata": {},
   "outputs": [
    {
     "data": {
      "text/plain": [
       "0.41364639757754756"
      ]
     },
     "execution_count": 31,
     "metadata": {},
     "output_type": "execute_result"
    },
    {
     "data": {
      "image/png": "[encoded data removed]",
      "text/plain": [
       "<Figure size 432x288 with 1 Axes>"
      ]
     },
     "metadata": {
      "needs_background": "light"
     },
     "output_type": "display_data"
    }
   ],
   "source": [
    "plt.plot(x,y) #Очевидно, решение не сошлось, сравниваем с линеаризованным\n",
    "plt.plot(x,y0)\n",
    "y[0]"
   ]
  },
  {
   "cell_type": "code",
   "execution_count": 43,
   "metadata": {},
   "outputs": [],
   "source": [
    "#Будем стрелять так, чтобы приблизиться к решению такому, что у(0)=1\n",
    "#Зададим производные в т. х=1\n",
    "alpha1 = 0.\n",
    "alpha2 = -1.\n",
    "alpha3 = -5.\n",
    "y1 = np.zeros(N)\n",
    "p1 = np.zeros(N)\n",
    "y2 = np.zeros(N)\n",
    "p2 = np.zeros(N)\n",
    "y3 = np.zeros(N)\n",
    "p3 = np.zeros(N)\n",
    "p1[N-1] = alpha1\n",
    "p2[N-1] = alpha2\n",
    "p3[N-1] = alpha3\n",
    "for i in range(0,N-1):\n",
    "    y1[N-2-i] = fu_yn(y1[N-1-i],p1[N-1-i],x[N-2-i])\n",
    "    p1[N-2-i] = fu_pn(y1[N-1-i],y1[N-2-i])\n",
    "    y2[N-2-i] = fu_yn(y2[N-1-i],p2[N-1-i],x[N-2-i])\n",
    "    p2[N-2-i] = fu_pn(y2[N-1-i],y2[N-2-i])\n",
    "    y3[N-2-i] = fu_yn(y3[N-1-i],p3[N-1-i],x[N-2-i])\n",
    "    p3[N-2-i] = fu_pn(y3[N-1-i],y3[N-2-i])\n"
   ]
  },
  {
   "cell_type": "code",
   "execution_count": 44,
   "metadata": {},
   "outputs": [
    {
     "data": {
      "image/png": "[encoded data removed]",
      "text/plain": [
       "<Figure size 432x288 with 1 Axes>"
      ]
     },
     "metadata": {
      "needs_background": "light"
     },
     "output_type": "display_data"
    }
   ],
   "source": [
    "plt.plot(x,y1,label='alpha=0')\n",
    "plt.plot(x,y2,label='alpha=-1')\n",
    "plt.plot(x,y3,label='alpha=-5')\n",
    "plt.plot(x,y0,label=u'Линеаризация')\n",
    "plt.legend()\n",
    "plt.show()"
   ]
  },
  {
   "cell_type": "code",
   "execution_count": null,
   "metadata": {},
   "outputs": [],
   "source": []
  },
  {
   "cell_type": "code",
   "execution_count": 45,
   "metadata": {},
   "outputs": [
    {
     "name": "stdout",
     "output_type": "stream",
     "text": [
      "2.3148716632107664 -3.0\n",
      "1.3642590303941873 -2.0\n",
      "0.888952713984867 -1.5\n",
      "1.1266058721890704 -1.75\n",
      "1.0077792930872271 -1.625\n",
      "0.9483660035363507 -1.5625\n",
      "0.9780726483120082 -1.59375\n",
      "0.9929259706994183 -1.609375\n",
      "1.0003526318931142 -1.6171875\n"
     ]
    },
    {
     "data": {
      "text/plain": [
       "[<matplotlib.lines.Line2D at 0x7f1f536496d8>]"
      ]
     },
     "execution_count": 45,
     "metadata": {},
     "output_type": "execute_result"
    },
    {
     "data": {
      "image/png": "[encoded data removed]",
      "text/plain": [
       "<Figure size 432x288 with 1 Axes>"
      ]
     },
     "metadata": {
      "needs_background": "light"
     },
     "output_type": "display_data"
    }
   ],
   "source": [
    "#Делаем вывод, что нужная нам alpha принадлежит [-5,-1], дальше ищем методом половинного деления\n",
    "an = -5.\n",
    "bn = -1.\n",
    "error = 1\n",
    "while (np.abs(error) > 0.001):\n",
    "    alphan = (an+bn)/2.\n",
    "\n",
    "    yn = np.zeros(N)\n",
    "    pn = np.zeros(N)\n",
    "    pn[N-1] = alphan\n",
    "    for i in range(0,N-1):        \n",
    "        yn[N-2-i] = fu_yn(yn[N-1-i],pn[N-1-i],x[N-2-i])\n",
    "        pn[N-2-i] = fu_pn(yn[N-1-i],yn[N-2-i])\n",
    "    print(yn[0], alphan)\n",
    "    error = yn[0] - 1.\n",
    "    if (error > 0): \n",
    "        an = alphan\n",
    "    if (error < 0):\n",
    "        bn = alphan\n",
    "plt.plot(x,yn)\n",
    "plt.plot(x,y0)"
   ]
  },
  {
   "cell_type": "markdown",
   "metadata": {},
   "source": [
    "Получаем, что y'(1) = -1.6171875, y(0)=1\n",
    "и error = 0.0004"
   ]
  },
  {
   "cell_type": "code",
   "execution_count": null,
   "metadata": {},
   "outputs": [],
   "source": []
  }
 ],
 "metadata": {
  "kernelspec": {
   "display_name": "Python 3",
   "language": "python",
   "name": "python3"
  },
  "language_info": {
   "codemirror_mode": {
    "name": "ipython",
    "version": 3
   },
   "file_extension": ".py",
   "mimetype": "text/x-python",
   "name": "python",
   "nbconvert_exporter": "python",
   "pygments_lexer": "ipython3",
   "version": "3.7.1"
  }
 },
 "nbformat": 4,
 "nbformat_minor": 2
}
