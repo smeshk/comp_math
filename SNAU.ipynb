{
 "cells": [
  {
   "cell_type": "code",
   "execution_count": 1,
   "metadata": {},
   "outputs": [],
   "source": [
    "import numpy as np"
   ]
  },
  {
   "cell_type": "code",
   "execution_count": 2,
   "metadata": {},
   "outputs": [],
   "source": [
    "x = np.linspace(0+1e-3, 5,  1000)\n",
    "y = np.log(x) + (x-1)**3"
   ]
  },
  {
   "cell_type": "code",
   "execution_count": 3,
   "metadata": {},
   "outputs": [],
   "source": [
    "import matplotlib.pyplot as plt\n",
    "%matplotlib inline"
   ]
  },
  {
   "cell_type": "code",
   "execution_count": 4,
   "metadata": {},
   "outputs": [
    {
     "data": {
      "image/png": "[encoded data removed]",
      "text/plain": [
       "<Figure size 432x288 with 1 Axes>"
      ]
     },
     "metadata": {},
     "output_type": "display_data"
    }
   ],
   "source": [
    "plt.plot(x,y)\n",
    "plt.grid()"
   ]
  },
  {
   "cell_type": "code",
   "execution_count": 5,
   "metadata": {},
   "outputs": [],
   "source": [
    "def func(x):\n",
    "    return np.log(x) + np.power((x-1),3)"
   ]
  },
  {
   "cell_type": "code",
   "execution_count": 6,
   "metadata": {},
   "outputs": [],
   "source": [
    "def derfunc(x):\n",
    "    return 1/x + 3*np.power((x-1),2)"
   ]
  },
  {
   "cell_type": "code",
   "execution_count": 7,
   "metadata": {},
   "outputs": [],
   "source": [
    "def itera(a,b,eps):\n",
    "    lx = np.linspace(a, b, 10000)\n",
    "    \n",
    "    dery = derfunc(lx)\n",
    "    \n",
    "    M = np.max(dery)\n",
    "    m = np.min(dery)\n",
    "    \n",
    "    tau = 2/(M+m)\n",
    "    \n",
    "    x0 = (a + b)/2\n",
    "    q = np.abs(1-tau * derfunc(a))\n",
    "    print q\n",
    "#Запустим итерационный процесс x = psi(x) = x - tau*f(x)\n",
    "    k=1\n",
    "    x1 = x0 - tau*func(x0)\n",
    "    newx = x1\n",
    "    stop = (np.power(q, k)*np.abs(x1-x0)/(1-q) > eps)\n",
    "    \n",
    "    while stop:\n",
    "        x = newx\n",
    "        newx = x - tau*func(x)\n",
    "        k = k + 1\n",
    "        stop = (np.power(q, k) * np.abs(x1-x0) / (1-q) > eps)\n",
    "    x = newx\n",
    "    newx = x - tau * func(x)\n",
    "    return newx"
   ]
  },
  {
   "cell_type": "code",
   "execution_count": 8,
   "metadata": {},
   "outputs": [
    {
     "name": "stdout",
     "output_type": "stream",
     "text": [
      "0.9819851459041105\n",
      "1.014814857941006\n"
     ]
    }
   ],
   "source": [
    "#из графика видно, что корень находится на промежутке от 0 до 3\n",
    "a = 0.01\n",
    "b = 3.0\n",
    "res = itera(a,b,0.02)\n",
    "print(res)"
   ]
  },
  {
   "cell_type": "code",
   "execution_count": null,
   "metadata": {},
   "outputs": [],
   "source": []
  }
 ],
 "metadata": {
  "kernelspec": {
   "display_name": "Python 2",
   "language": "python",
   "name": "python2"
  },
  "language_info": {
   "codemirror_mode": {
    "name": "ipython",
    "version": 2
   },
   "file_extension": ".py",
   "mimetype": "text/x-python",
   "name": "python",
   "nbconvert_exporter": "python",
   "pygments_lexer": "ipython2",
   "version": "2.7.15"
  }
 },
 "nbformat": 4,
 "nbformat_minor": 2
}
