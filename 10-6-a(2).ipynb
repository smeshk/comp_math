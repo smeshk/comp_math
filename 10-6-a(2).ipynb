{
 "cells": [
  {
   "cell_type": "code",
   "execution_count": 135,
   "metadata": {},
   "outputs": [],
   "source": [
    "%matplotlib inline\n",
    "import numpy as np\n",
    "import math\n",
    "from math import sqrt"
   ]
  },
  {
   "cell_type": "code",
   "execution_count": 136,
   "metadata": {},
   "outputs": [],
   "source": [
    "def max_col(A,f,j):\n",
    "    n = len(A)-1\n",
    "    maxi = math.fabs(A[j][j])\n",
    "    kmax = j\n",
    "    for i in range(j,n):\n",
    "        if math.fabs(A[i][j])>maxi:\n",
    "            maxi = math.fabs(A[i][j])\n",
    "            kmax = i\n",
    "    return kmax"
   ]
  },
  {
   "cell_type": "code",
   "execution_count": 137,
   "metadata": {},
   "outputs": [],
   "source": [
    "def find_i(vec,i):\n",
    "    k=0\n",
    "    ans = vec[0] == i\n",
    "    while not ans:\n",
    "        k=k+1\n",
    "        ans = vec[k] == i\n",
    "    return k"
   ]
  },
  {
   "cell_type": "code",
   "execution_count": 138,
   "metadata": {},
   "outputs": [],
   "source": [
    "def Gaus(A,f,n):\n",
    "    per = [i for i in range(n+1)]\n",
    "    A1 = np.copy(A)\n",
    "    f1 = np.copy(f)\n",
    "    for i in range(0,n):\n",
    "        k_max = max_col(A1,f1,i)\n",
    "        if i != k_max:\n",
    "            per[i] = k_max\n",
    "            per[k_max] = i\n",
    "            buf = 0\n",
    "            buf = f[i]\n",
    "            f[i] = f[k_max]\n",
    "            f[k_max] = buf\n",
    "            for j in range(0,n+1):\n",
    "                buf = A[i][j]\n",
    "                A[i][j] = A[k_max][j]\n",
    "                A[k_max][j] = buf\n",
    "        for k in range(i+1,n+1):\n",
    "            a = float(A[k][i])\n",
    "            b = float(A[i][i])\n",
    "            for j in range(i,n+1):\n",
    "                A[k][j] = float(A[k][j]) - a/b*float(A[i][j])\n",
    "            f[k] = f[k] - a/b*f[i]\n",
    "    #тут мы получили треугольную матрицу\n",
    "    #print f\n",
    "    #print A\n",
    "    u = [.0 for i in range(n+1)]\n",
    "    u[n] = f[n]/A[n][n]\n",
    "    for k in range(n-1,-1,-1):\n",
    "        summ = 0\n",
    "        for ii in range(k+1,n+1):\n",
    "            summ = summ + u[ii]*A[k][ii]\n",
    "        u[k] = (1/float(A[k][k]))*(f[k]-summ)\n",
    "    #теперь сделаем перестановки в конечном векторе\n",
    "    for i in range(0,n):\n",
    "        if i != per[i]:\n",
    "            perk = find_i(per,i)\n",
    "            per[perk]=per[i]\n",
    "            per[i]=i\n",
    "            buf = u[i]\n",
    "            u[i] = u[perk]\n",
    "            u[perk] = buf\n",
    "    return u"
   ]
  },
  {
   "cell_type": "code",
   "execution_count": null,
   "metadata": {},
   "outputs": [],
   "source": []
  },
  {
   "cell_type": "code",
   "execution_count": 139,
   "metadata": {},
   "outputs": [],
   "source": [
    "def Zeidel(A, f, n, eps):\n",
    "    u = [.0 for i in range(n+1)]\n",
    "    F = [.0 for i in range(n+1)]\n",
    "    ans = False\n",
    "    while not ans:\n",
    "        u_new = np.copy(u)\n",
    "        Uu = [.0 for i in range(n+1)]\n",
    "        for i in range(n):\n",
    "            Uu[i] = sum(A[i][j] * u[j] for j in range(i+1,n+1))\n",
    "        for k in range(n+1):\n",
    "            F[k] = f[k] - Uu[k]\n",
    "        u_new[0] = F[0]/float(A[0][0])\n",
    "        for i in range(1,n+1):\n",
    "            summ = 0\n",
    "            for j in range(0,i):\n",
    "                summ = summ + u_new[j]*A[i][j]\n",
    "            u_new[i] = (1/float(A[i][i]))*(F[i]-summ)\n",
    "#прекращаем итерации когда норма(вторая) разности исходного и полученного векторов меньше эпсилон\n",
    "        ans = sqrt(sum((u_new[i] - u[i]) ** 2 for i in range(n+1))) <= eps\n",
    "        u = u_new\n",
    "\n",
    "    return u"
   ]
  },
  {
   "cell_type": "code",
   "execution_count": 140,
   "metadata": {},
   "outputs": [],
   "source": [
    "n=99\n",
    "ai=1.0\n",
    "ci=1.0\n",
    "bi=10.0\n",
    "pi=1.0\n",
    "a = [[0] * (n+1) for i in range(n+1)]\n",
    "for i in range(n):\n",
    "    a[i][i] = bi\n",
    "    a[i][i+1] = ci\n",
    "for j in range(0,n+1):\n",
    "    a[n][j] = pi\n",
    "for i in range(1,n):\n",
    "    a[i][i-1] = ai\n",
    "f = [.0 for i in range(n+1)]\n",
    "for i in range(0,n+1):\n",
    "    f[i] = i+1\n",
    "gaus = [[0] for i in range(n+1)]\n",
    "gaus = Gaus(a,f,n)\n",
    "eps = 0.00000000001\n",
    "zeid = [[0] for i in range(n+1)]\n",
    "zeid = Zeidel(a, f, n, eps)\n",
    "#print gaus\n",
    "#print zeid"
   ]
  },
  {
   "cell_type": "code",
   "execution_count": 141,
   "metadata": {},
   "outputs": [
    {
     "name": "stdout",
     "output_type": "stream",
     "text": [
      "[-2.220446049250313e-16, 0.0, 0.0, -4.440892098500626e-16, 0.0, 0.0, 8.881784197001252e-16, 0.0, 0.0, 0.0, 0.0, 0.0, 0.0, 0.0, 0.0, 0.0, 0.0, 3.552713678800501e-15, 0.0, 0.0, 0.0, 0.0, 0.0, 0.0, 0.0, 0.0, 0.0, 0.0, 0.0, 0.0, 0.0, 0.0, 0.0, 3.552713678800501e-15, 3.552713678800501e-15, 0.0, 0.0, 7.105427357601002e-15, 0.0, 0.0, 0.0, 0.0, 0.0, 0.0, 0.0, 0.0, 0.0, 0.0, 7.105427357601002e-15, 0.0, 0.0, 0.0, 0.0, 0.0, -7.105427357601002e-15, 0.0, 0.0, 0.0, 0.0, 0.0, 0.0, 0.0, 0.0, 0.0, 0.0, 0.0, 0.0, 0.0, 0.0, 0.0, 0.0, 1.4210854715202004e-14, 0.0, -1.4210854715202004e-14, 0.0, 0.0, 0.0, 0.0, 0.0, 0.0, 0.0, 0.0, 0.0, 0.0, 0.0, 0.0, 0.0, 0.0, 0.0, 0.0, 0.0, 0.0, 0.0, 0.0, 0.0, 0.0, 0.0, 0.0, -4.263256414560601e-14, 0.0]\n"
     ]
    }
   ],
   "source": [
    "#невязки для Гаусса\n",
    "nevyaz = [[0] for i in range(n+1)]\n",
    "Au = [[0] for i in range(n+1)]\n",
    "Au = np.dot(a,gaus)\n",
    "for i in range(0,n+1):\n",
    "    nevyaz[i] = f[i]-Au[i]\n",
    "print(nevyaz)"
   ]
  },
  {
   "cell_type": "code",
   "execution_count": 142,
   "metadata": {},
   "outputs": [
    {
     "name": "stdout",
     "output_type": "stream",
     "text": [
      "1.22485954908\n"
     ]
    }
   ],
   "source": [
    "#число обусловленности\n",
    "import numpy as np\n",
    "import math\n",
    "aobr = np.linalg.inv(a)\n",
    "#нормой матрицы считаем норму по L1\n",
    "asum = [[0] for i in range(n)]\n",
    "aobrsum = [[0] for i in range(n)]\n",
    "for j in range(0,n):\n",
    "    loc=0\n",
    "    coc=0\n",
    "    for i in range(0,n+1):\n",
    "        loc = loc+math.fabs(a[i][j])\n",
    "        coc = coc+math.fabs(aobr[i][j])\n",
    "    asum[j] = loc\n",
    "    aobrsum[j] = coc\n",
    "norm_a = max(asum)\n",
    "norm_aobr = max(aobrsum)\n",
    "nyu = norm_a*norm_aobr\n",
    "print(nyu)"
   ]
  },
  {
   "cell_type": "code",
   "execution_count": 143,
   "metadata": {},
   "outputs": [],
   "source": [
    "#собственные числа\n",
    "import numpy as np\n",
    "ans, ans1 = np.linalg.eig(a)\n",
    "lyambda_max = max(ans)\n",
    "lyambda_min = min(ans)"
   ]
  },
  {
   "cell_type": "code",
   "execution_count": 144,
   "metadata": {},
   "outputs": [
    {
     "name": "stdout",
     "output_type": "stream",
     "text": [
      "[-1.709743457922741e-14, -1.84297022087776e-14, -1.9095836023552692e-14, -2.0872192862952943e-14, -2.1316282072803006e-14, -2.220446049250313e-14, -2.3092638912203256e-14, -2.4868995751603507e-14, -2.4868995751603507e-14, -2.6645352591003757e-14, -2.842170943040401e-14, -2.842170943040401e-14, -3.019806626980426e-14, -3.197442310920451e-14, -3.197442310920451e-14, -3.197442310920451e-14, -3.375077994860476e-14, -3.552713678800501e-14, -3.552713678800501e-14, -3.552713678800501e-14, -3.552713678800501e-14, -3.907985046680551e-14, -3.907985046680551e-14, -4.263256414560601e-14, -4.263256414560601e-14, -4.263256414560601e-14, -4.263256414560601e-14, -4.618527782440651e-14, -4.618527782440651e-14, -4.973799150320701e-14, -4.973799150320701e-14, -4.973799150320701e-14, -5.3290705182007514e-14, -4.973799150320701e-14, -4.973799150320701e-14, -4.973799150320701e-14, -5.684341886080802e-14, -5.684341886080802e-14, -5.684341886080802e-14, -5.684341886080802e-14, -6.394884621840902e-14, -6.394884621840902e-14, -5.684341886080802e-14, -6.394884621840902e-14, -6.394884621840902e-14, -6.394884621840902e-14, -6.394884621840902e-14, -7.105427357601002e-14, -6.394884621840902e-14, -7.105427357601002e-14, -7.105427357601002e-14, -7.105427357601002e-14, -7.105427357601002e-14, -7.815970093361102e-14, -7.105427357601002e-14, -7.815970093361102e-14, -7.815970093361102e-14, -7.815970093361102e-14, -7.815970093361102e-14, -8.526512829121202e-14, -7.815970093361102e-14, -7.815970093361102e-14, -8.526512829121202e-14, -8.526512829121202e-14, -8.526512829121202e-14, -8.526512829121202e-14, -9.237055564881302e-14, -8.526512829121202e-14, -9.237055564881302e-14, -9.237055564881302e-14, -8.526512829121202e-14, -9.947598300641403e-14, -9.947598300641403e-14, -9.947598300641403e-14, -9.947598300641403e-14, -9.947598300641403e-14, -9.947598300641403e-14, -9.947598300641403e-14, -9.947598300641403e-14, -9.947598300641403e-14, -9.947598300641403e-14, -9.947598300641403e-14, -1.1368683772161603e-13, -9.947598300641403e-14, 3.979039320256561e-12, 0.0, 0.0, 0.0, 0.0, 0.0, 0.0, 0.0, 0.0, 0.0, 0.0, 0.0, 0.0, 0.0, -4.263256414560601e-14, 0.0]\n"
     ]
    }
   ],
   "source": [
    "#невязки для метода Зейделя\n",
    "nevyazZ = [[0] for i in range(n+1)]\n",
    "Au = [.0 for i in range(n+1)]\n",
    "Au = np.dot(a,zeid)\n",
    "for i in range(0,n+1):\n",
    "    nevyazZ[i] = f[i]-Au[i]\n",
    "print(nevyazZ)"
   ]
  },
  {
   "cell_type": "code",
   "execution_count": null,
   "metadata": {},
   "outputs": [],
   "source": []
  }
 ],
 "metadata": {
  "kernelspec": {
   "display_name": "Python 2",
   "language": "python",
   "name": "python2"
  },
  "language_info": {
   "codemirror_mode": {
    "name": "ipython",
    "version": 2
   },
   "file_extension": ".py",
   "mimetype": "text/x-python",
   "name": "python",
   "nbconvert_exporter": "python",
   "pygments_lexer": "ipython2",
   "version": "2.7.15"
  }
 },
 "nbformat": 4,
 "nbformat_minor": 2
}
